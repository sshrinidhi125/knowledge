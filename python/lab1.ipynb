{
  "metadata": {
    "kernelspec": {
      "name": "python",
      "display_name": "Python (Pyodide)",
      "language": "python"
    },
    "language_info": {
      "codemirror_mode": {
        "name": "python",
        "version": 3
      },
      "file_extension": ".py",
      "mimetype": "text/x-python",
      "name": "python",
      "nbconvert_exporter": "python",
      "pygments_lexer": "ipython3",
      "version": "3.8"
    }
  },
  "nbformat_minor": 4,
  "nbformat": 4,
  "cells": [
    {
      "cell_type": "markdown",
      "source": "# Python Lab1",
      "metadata": {}
    },
    {
      "cell_type": "markdown",
      "source": "## Print Usage",
      "metadata": {}
    },
    {
      "cell_type": "raw",
      "source": "print(\"Hello World\")\nprint(\"Hello\", \"World\", \"!\")\na = 80\nprint(\"_\"*a)\nprint(f\"{a} is an int type\")",
      "metadata": {}
    },
    {
      "cell_type": "markdown",
      "source": "## Prime Number\n* Find prime number using for loop range(2,n)\n* Find prime number using for loop range(2, sqrt(n)+1)",
      "metadata": {}
    },
    {
      "cell_type": "code",
      "source": "import math\n\ndef prime_number(num):\n    is_prime = True\n    factor = 1\n    for i in range(2,num):\n    #for i in range(2, int(math.sqrt(num))+1):\n        if num%i == 0:\n            is_prime = False\n            factor = i\n            break\n    \n    if is_prime:\n        print(num, \" is a prime number\")\n    else:\n        print(num, \" is not a prime number and its factor is \" , factor, num//factor)\n\nfor i in range(1,  100):\n    prime_number(i)",
      "metadata": {
        "trusted": true
      },
      "outputs": [],
      "execution_count": null
    },
    {
      "cell_type": "markdown",
      "source": "## Factorial using for loop",
      "metadata": {}
    },
    {
      "cell_type": "code",
      "source": "def factorial(num):\n    fact = 1\n    for i in range(num, 1, -1):\n        fact=fact*i\n    return fact\n\nfor i in range(6):\n    print(f\"Factorial of {i} is {factorial(i)}\")\n",
      "metadata": {
        "trusted": true
      },
      "outputs": [],
      "execution_count": null
    },
    {
      "cell_type": "markdown",
      "source": "## Factorial using recursive function",
      "metadata": {}
    },
    {
      "cell_type": "code",
      "source": "def factorial(num):\n    if num <= 1:\n        return 1\n    else:\n        return num * factorial(num-1)\n\nfor i in range(6):\n    print(f\"Factorial of {i} is {factorial(i)}\")",
      "metadata": {
        "trusted": true
      },
      "outputs": [],
      "execution_count": null
    },
    {
      "cell_type": "code",
      "source": "",
      "metadata": {
        "trusted": true
      },
      "outputs": [],
      "execution_count": null
    }
  ]
}
