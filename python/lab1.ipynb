{
  "metadata": {
    "kernelspec": {
      "name": "python",
      "display_name": "Python (Pyodide)",
      "language": "python"
    },
    "language_info": {
      "codemirror_mode": {
        "name": "python",
        "version": 3
      },
      "file_extension": ".py",
      "mimetype": "text/x-python",
      "name": "python",
      "nbconvert_exporter": "python",
      "pygments_lexer": "ipython3",
      "version": "3.8"
    }
  },
  "nbformat_minor": 4,
  "nbformat": 4,
  "cells": [
    {
      "cell_type": "markdown",
      "source": "# My Python Lab1",
      "metadata": {}
    },
    {
      "cell_type": "markdown",
      "source": "# Print Usage",
      "metadata": {}
    },
    {
      "cell_type": "code",
      "source": "print(\"Hello World\")\nprint(\"Hello\", \"World\", \"!\")\na = 80\nprint(\"_\"*a)\nprint(f\"{a} is an int type\")",
      "metadata": {
        "trusted": true
      },
      "outputs": [
        {
          "name": "stdout",
          "text": "Hello World\nHello World !\n________________________________________________________________________________\n80 is an int type\n",
          "output_type": "stream"
        }
      ],
      "execution_count": 47
    },
    {
      "cell_type": "raw",
      "source": "## Prime Number\n* Find prime number using for loop range(2,n)\n* Find prime number using for loop range(2, sqrt(n)+1)",
      "metadata": {}
    },
    {
      "cell_type": "code",
      "source": "import math\n\ndef prime_number(num):\n    is_prime = True\n    factor = 1\n    for i in range(2,num):\n    #for i in range(2, int(math.sqrt(num))+1):\n        if num%i == 0:\n            is_prime = False\n            factor = i\n            break\n    \n    if is_prime:\n        print(num, \" is a prime number\")\n    else:\n        print(num, \" is not a prime number and its factor is \" , factor, num//factor)\n\nfor i in range(1,  100):\n    prime_number(i)",
      "metadata": {
        "trusted": true
      },
      "outputs": [
        {
          "name": "stdout",
          "text": "1  is a prime number\n2  is a prime number\n3  is a prime number\n4  is not a prime number and its factor is  2 2\n5  is a prime number\n6  is not a prime number and its factor is  2 3\n7  is a prime number\n8  is not a prime number and its factor is  2 4\n9  is not a prime number and its factor is  3 3\n10  is not a prime number and its factor is  2 5\n11  is a prime number\n12  is not a prime number and its factor is  2 6\n13  is a prime number\n14  is not a prime number and its factor is  2 7\n15  is not a prime number and its factor is  3 5\n16  is not a prime number and its factor is  2 8\n17  is a prime number\n18  is not a prime number and its factor is  2 9\n19  is a prime number\n20  is not a prime number and its factor is  2 10\n21  is not a prime number and its factor is  3 7\n22  is not a prime number and its factor is  2 11\n23  is a prime number\n24  is not a prime number and its factor is  2 12\n25  is not a prime number and its factor is  5 5\n26  is not a prime number and its factor is  2 13\n27  is not a prime number and its factor is  3 9\n28  is not a prime number and its factor is  2 14\n29  is a prime number\n30  is not a prime number and its factor is  2 15\n31  is a prime number\n32  is not a prime number and its factor is  2 16\n33  is not a prime number and its factor is  3 11\n34  is not a prime number and its factor is  2 17\n35  is not a prime number and its factor is  5 7\n36  is not a prime number and its factor is  2 18\n37  is a prime number\n38  is not a prime number and its factor is  2 19\n39  is not a prime number and its factor is  3 13\n40  is not a prime number and its factor is  2 20\n41  is a prime number\n42  is not a prime number and its factor is  2 21\n43  is a prime number\n44  is not a prime number and its factor is  2 22\n45  is not a prime number and its factor is  3 15\n46  is not a prime number and its factor is  2 23\n47  is a prime number\n48  is not a prime number and its factor is  2 24\n49  is not a prime number and its factor is  7 7\n50  is not a prime number and its factor is  2 25\n51  is not a prime number and its factor is  3 17\n52  is not a prime number and its factor is  2 26\n53  is a prime number\n54  is not a prime number and its factor is  2 27\n55  is not a prime number and its factor is  5 11\n56  is not a prime number and its factor is  2 28\n57  is not a prime number and its factor is  3 19\n58  is not a prime number and its factor is  2 29\n59  is a prime number\n60  is not a prime number and its factor is  2 30\n61  is a prime number\n62  is not a prime number and its factor is  2 31\n63  is not a prime number and its factor is  3 21\n64  is not a prime number and its factor is  2 32\n65  is not a prime number and its factor is  5 13\n66  is not a prime number and its factor is  2 33\n67  is a prime number\n68  is not a prime number and its factor is  2 34\n69  is not a prime number and its factor is  3 23\n70  is not a prime number and its factor is  2 35\n71  is a prime number\n72  is not a prime number and its factor is  2 36\n73  is a prime number\n74  is not a prime number and its factor is  2 37\n75  is not a prime number and its factor is  3 25\n76  is not a prime number and its factor is  2 38\n77  is not a prime number and its factor is  7 11\n78  is not a prime number and its factor is  2 39\n79  is a prime number\n80  is not a prime number and its factor is  2 40\n81  is not a prime number and its factor is  3 27\n82  is not a prime number and its factor is  2 41\n83  is a prime number\n84  is not a prime number and its factor is  2 42\n85  is not a prime number and its factor is  5 17\n86  is not a prime number and its factor is  2 43\n87  is not a prime number and its factor is  3 29\n88  is not a prime number and its factor is  2 44\n89  is a prime number\n90  is not a prime number and its factor is  2 45\n91  is not a prime number and its factor is  7 13\n92  is not a prime number and its factor is  2 46\n93  is not a prime number and its factor is  3 31\n94  is not a prime number and its factor is  2 47\n95  is not a prime number and its factor is  5 19\n96  is not a prime number and its factor is  2 48\n97  is a prime number\n98  is not a prime number and its factor is  2 49\n99  is not a prime number and its factor is  3 33\n",
          "output_type": "stream"
        }
      ],
      "execution_count": 39
    }
  ]
}
