{
  "cells": [
    {
      "cell_type": "markdown",
      "metadata": {},
      "source": [
        "# Python Lab1"
      ]
    },
    {
      "cell_type": "markdown",
      "metadata": {},
      "source": [
        "## Print Usage"
      ]
    },
    {
      "cell_type": "code",
      "execution_count": null,
      "metadata": {
        "trusted": true
      },
      "outputs": [],
      "source": [
        "print(\"Hello World\")\n",
        "print(\"Hello\", \"World\", \"!\")\n",
        "a = 80\n",
        "print(\"_\"*a)\n",
        "print(f\"{a} is an int type\")\n",
        "print(\"{0}, {1}\".format(\"value1\", \"value2\"))\n",
        "print(\"{0: 0.3f}, {1: 0.3f}\".format(3.3, 4.1))"
      ]
    },
    {
      "cell_type": "markdown",
      "metadata": {},
      "source": [
        "## Prime Number\n",
        "* Find prime number using for loop range(2,n)\n",
        "* Find prime number using for loop range(2, sqrt(n)+1)"
      ]
    },
    {
      "cell_type": "code",
      "execution_count": null,
      "metadata": {
        "trusted": true
      },
      "outputs": [],
      "source": [
        "import math\n",
        "\n",
        "def prime_number(num):\n",
        "    is_prime = True\n",
        "    factor = 1\n",
        "    # for i in range(2,num):\n",
        "    for i in range(2, int(math.sqrt(num))+1):\n",
        "        if num%i == 0:\n",
        "            is_prime = False\n",
        "            factor = i\n",
        "            break\n",
        "    \n",
        "    if is_prime:\n",
        "        print(num, \" is a prime number\")\n",
        "    else:\n",
        "        print(num, \" is not a prime number and its factor is \" , factor, num//factor)\n",
        "\n",
        "for i in range(1,  100):\n",
        "    prime_number(i)"
      ]
    },
    {
      "cell_type": "markdown",
      "metadata": {},
      "source": [
        "## Factorial using for loop"
      ]
    },
    {
      "cell_type": "code",
      "execution_count": null,
      "metadata": {
        "trusted": true
      },
      "outputs": [],
      "source": [
        "def factorial(num):\n",
        "    fact = 1\n",
        "    for i in range(num, 1, -1):\n",
        "        fact=fact*i\n",
        "    return fact\n",
        "\n",
        "for i in range(6):\n",
        "    print(f\"Factorial of {i} is {factorial(i)}\")\n"
      ]
    },
    {
      "cell_type": "markdown",
      "metadata": {},
      "source": [
        "## Factorial using recursive function"
      ]
    },
    {
      "cell_type": "code",
      "execution_count": null,
      "metadata": {
        "trusted": true
      },
      "outputs": [],
      "source": [
        "def factorial(num):\n",
        "    if num <= 1:\n",
        "        return 1\n",
        "    else:\n",
        "        return num * factorial(num-1)\n",
        "\n",
        "for i in range(6):\n",
        "    print(f\"Factorial of {i} is {factorial(i)}\")"
      ]
    },
    {
      "cell_type": "markdown",
      "metadata": {},
      "source": [
        "## Find the Sum of N natural numbers using for..loop"
      ]
    },
    {
      "cell_type": "code",
      "execution_count": null,
      "metadata": {},
      "outputs": [],
      "source": [
        "def sigma(n):\n",
        "    sum=0\n",
        "    for i in range(n+1):\n",
        "        sum+=i\n",
        "    return sum\n",
        "\n",
        "for i in range(1,11):\n",
        "    print(f\"Sum of first {i} natural numbers is {sigma(i)}\")"
      ]
    },
    {
      "cell_type": "markdown",
      "metadata": {},
      "source": [
        "# Find the sum of N natural number using the formula\n",
        "```\n",
        "Sigma = n * (n+1)/2\n",
        "```"
      ]
    },
    {
      "cell_type": "code",
      "execution_count": null,
      "metadata": {},
      "outputs": [],
      "source": [
        "def sigma(n):\n",
        "    sum=n*(n+1)//2\n",
        "    return sum\n",
        "\n",
        "for i in range(1,11):\n",
        "    print(f\"Sum of first {i} natural numbers is {sigma(i)}\")"
      ]
    },
    {
      "cell_type": "markdown",
      "metadata": {},
      "source": [
        "## Fibonacci series"
      ]
    },
    {
      "cell_type": "code",
      "execution_count": null,
      "metadata": {},
      "outputs": [],
      "source": [
        "def fibo(n):\n",
        "    t1=0\n",
        "    t2=1\n",
        "    print(t1, end= \" \")\n",
        "    print(t2, end= \" \")\n",
        "    for i in range(n-2):\n",
        "        t3 = t1 + t2\n",
        "        print(t3, end= \" \")\n",
        "        t1 = t2\n",
        "        t2 = t3\n",
        "\n",
        "for i in range (2, 10):\n",
        "    fibo(i)\n",
        "    print()"
      ]
    },
    {
      "cell_type": "markdown",
      "metadata": {},
      "source": [
        "# Find the roots of a Quadratic equation\n",
        "```\n",
        "y = ax^2 + bx + c\n",
        "r1 = -b + sqrtroot(b**2 - 4*a*c) / 2*a\n",
        "r2 = -b - sqrtroot(b**2 - 4*a*c) / 2*a\n",
        "```"
      ]
    },
    {
      "cell_type": "code",
      "execution_count": null,
      "metadata": {},
      "outputs": [],
      "source": [
        "# using math library\n",
        "import math\n",
        "def root(a,b,c):\n",
        "    if a!=0:\n",
        "        d = b**2 - 4*a*c\n",
        "        x = -b + math.sqrt(d) / 2 * a\n",
        "        y = -b - math.sqrt(d) / 2 * a\n",
        "        return x,y\n",
        "print(\"The roots are \" , root(1,5,6))"
      ]
    },
    {
      "cell_type": "code",
      "execution_count": null,
      "metadata": {},
      "outputs": [],
      "source": [
        "# using cmath library\n",
        "import cmath\n",
        "def root(a,b,c):\n",
        "    if a!=0:\n",
        "        d = b**2 - 4*a*c\n",
        "        x = -b + cmath.sqrt(d) / 2*a\n",
        "        y = -b - cmath.sqrt(d) / 2*a\n",
        "        return x, y\n",
        "print(\"The roots are \" , root(1,5,6))"
      ]
    }
  ],
  "metadata": {
    "kernelspec": {
      "display_name": "Python 3",
      "language": "python",
      "name": "python3"
    },
    "language_info": {
      "codemirror_mode": {
        "name": "ipython",
        "version": 3
      },
      "file_extension": ".py",
      "mimetype": "text/x-python",
      "name": "python",
      "nbconvert_exporter": "python",
      "pygments_lexer": "ipython3",
      "version": "3.9.12"
    }
  },
  "nbformat": 4,
  "nbformat_minor": 4
}
